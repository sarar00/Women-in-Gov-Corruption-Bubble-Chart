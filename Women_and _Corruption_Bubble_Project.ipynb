{
 "cells": [
  {
   "cell_type": "code",
   "execution_count": 38,
   "metadata": {
    "collapsed": true
   },
   "outputs": [],
   "source": [
    "import plotly\n",
    "plotly.tools.set_credentials_file(username='sara.rufael', api_key='kCXkJUwVZRO2qqXfaMMO') "
   ]
  },
  {
   "cell_type": "code",
   "execution_count": 103,
   "metadata": {
    "scrolled": true
   },
   "outputs": [
    {
     "name": "stderr",
     "output_type": "stream",
     "text": [
      "/Users/sararufael/anaconda3/lib/python3.6/site-packages/plotly/tools.py:1491: UserWarning:\n",
      "\n",
      "plotly.tools.FigureFactory.create_table is deprecated. Use plotly.figure_factory.create_table\n",
      "\n"
     ]
    },
    {
     "name": "stdout",
     "output_type": "stream",
     "text": [
      "High five! You successfully sent some data to your account on plotly. View your plot in your browser at https://plot.ly/~sara.rufael/0 or inside your plot.ly account where it is named 'women-and-corruption-preview'\n"
     ]
    },
    {
     "data": {
      "text/html": [
       "<iframe id=\"igraph\" scrolling=\"no\" style=\"border:none;\" seamless=\"seamless\" src=\"https://plot.ly/~sara.rufael/0.embed\" height=\"380px\" width=\"100%\"></iframe>"
      ],
      "text/plain": [
       "<plotly.tools.PlotlyDisplay object>"
      ]
     },
     "execution_count": 103,
     "metadata": {},
     "output_type": "execute_result"
    }
   ],
   "source": [
    "import plotly.plotly as py\n",
    "from plotly.grid_objs import Grid, Column\n",
    "from plotly.tools import FigureFactory as FF \n",
    "\n",
    "import pandas as pd\n",
    "import time\n",
    "\n",
    "dataset = pd.read_csv(\"reformdata.csv\",encoding = \"ISO-8859-1\") \n",
    "table = FF.create_table(dataset.head(10)) \n",
    "py.iplot(table, filename='women-and-corruption-preview')"
   ]
  },
  {
   "cell_type": "code",
   "execution_count": 104,
   "metadata": {},
   "outputs": [
    {
     "data": {
      "text/plain": [
       "'https://plot.ly/~sara.rufael/17/'"
      ]
     },
     "execution_count": 104,
     "metadata": {},
     "output_type": "execute_result"
    }
   ],
   "source": [
    "years_from_col = set(dataset['Year'])\n",
    "years_ints = sorted(list(years_from_col))\n",
    "years = [str(year) for year in years_ints]\n",
    "\n",
    "\n",
    "# make list of continents\n",
    "continents = []\n",
    "for continent in dataset['continent']:\n",
    "    if continent not in continents: \n",
    "        continents.append(continent)\n",
    "\n",
    "columns = []\n",
    "# make grid\n",
    "for year in years:\n",
    "    for continent in continents:\n",
    "        dataset_by_year = dataset[dataset['Year'] == int(year)]\n",
    "        dataset_by_year_and_cont = dataset_by_year[dataset_by_year['continent'] == continent]\n",
    "        for col_name in dataset_by_year_and_cont:\n",
    "            # each column name is unique\n",
    "            column_name = '{year}_{continent}_{header}_gapminder_grid'.format(\n",
    "                year=year, continent=continent, header=col_name\n",
    "            )\n",
    "            a_column = Column(list(dataset_by_year_and_cont[col_name]), column_name)\n",
    "            columns.append(a_column)\n",
    "\n",
    "# upload grid\n",
    "grid = Grid(columns)\n",
    "url = py.grid_ops.upload(grid, 'gapminder_grid'+str(time.time()), auto_open=False)\n",
    "url"
   ]
  },
  {
   "cell_type": "code",
   "execution_count": 105,
   "metadata": {
    "collapsed": true
   },
   "outputs": [],
   "source": [
    "figure = {\n",
    "    'data': [],\n",
    "    'layout': {},\n",
    "    'frames': [],\n",
    "    'config': {'scrollzoom': True}\n",
    "}\n",
    "\n",
    "# fill in most of layout\n",
    "figure['layout']['xaxis'] = {'range': [0, 100], 'title': 'Corruption Rating (0-100)', 'gridcolor': '#FFFFFF'}\n",
    "figure['layout']['yaxis'] = {'title': '% of Women in Parliament', 'gridcolor': '#FFFFFF'}\n",
    "figure['layout']['hovermode'] = 'closest'\n",
    "figure['layout']['plot_bgcolor'] = 'rgb(223, 232, 243)'"
   ]
  },
  {
   "cell_type": "code",
   "execution_count": 106,
   "metadata": {
    "collapsed": true
   },
   "outputs": [],
   "source": [
    "figure['layout']['sliders'] = {'active': 0,'yanchor': 'top','xanchor': 'left','currentvalue': \n",
    "    {'font': {'size': 20},'prefix': 'text-before-value-on-display','visible': True,'xanchor': 'right'},'transition': \n",
    "                 {'duration': 300, 'easing': 'cubic-in-out'},'pad': {'b': 10, 't': 50},'len': 0.9,'x': 0.1,'y': 0,'steps': [...]} \n",
    "sliders_dict = {\n",
    "    'active': 0,\n",
    "    'yanchor': 'top',\n",
    "    'xanchor': 'left',\n",
    "    'currentvalue': {\n",
    "        'font': {'size': 20},\n",
    "        'prefix': 'Year:',\n",
    "        'visible': True,\n",
    "        'xanchor': 'right'\n",
    "    },\n",
    "    'transition': {'duration': 300, 'easing': 'cubic-in-out'},\n",
    "    'pad': {'b': 10, 't': 50},\n",
    "    'len': 0.9,\n",
    "    'x': 0.1,\n",
    "    'y': 0,\n",
    "    'steps': []\n",
    "} "
   ]
  },
  {
   "cell_type": "code",
   "execution_count": 107,
   "metadata": {
    "collapsed": true
   },
   "outputs": [],
   "source": [
    "figure['layout']['updatemenus'] = [\n",
    "    {\n",
    "        'buttons': [\n",
    "            {\n",
    "                'args': [None, {'frame': {'duration': 500, 'redraw': False},\n",
    "                         'fromcurrent': True, 'transition': {'duration': 300, 'easing': 'quadratic-in-out'}}],\n",
    "                'label': 'Play',\n",
    "                'method': 'animate'\n",
    "            },\n",
    "            {\n",
    "                'args': [[None], {'frame': {'duration': 0, 'redraw': False}, 'mode': 'immediate',\n",
    "                'transition': {'duration': 0}}],\n",
    "                'label': 'Pause',\n",
    "                'method': 'animate'\n",
    "            }\n",
    "        ],\n",
    "        'direction': 'left',\n",
    "        'pad': {'r': 10, 't': 87},\n",
    "        'showactive': False,\n",
    "        'type': 'buttons',\n",
    "        'x': 0.1,\n",
    "        'xanchor': 'right',\n",
    "        'y': 0,\n",
    "        'yanchor': 'top'\n",
    "    }\n",
    "]\n",
    "\n",
    "custom_colors = {\n",
    "    'Asia': 'rgb(232, 43, 11)',\n",
    "    'Europe': 'rgb(255, 200, 12)',\n",
    "    'Africa': 'rgb(133, 25, 255)',\n",
    "    'Americas': 'rgb(87, 255, 25)',\n",
    "    'Oceania': 'rgb(11, 197, 232)'\n",
    "} "
   ]
  },
  {
   "cell_type": "code",
   "execution_count": 108,
   "metadata": {
    "collapsed": true
   },
   "outputs": [],
   "source": [
    "col_name_template = '{year}_{continent}_{header}_gapminder_grid'\n",
    "Year = 1997 \n",
    "for continent in continents:\n",
    "    data_dict = {\n",
    "        'xsrc': grid.get_column_reference(col_name_template.format(\n",
    "            year=year, continent=continent, header='CPI'\n",
    "        )),\n",
    "        'ysrc': grid.get_column_reference(col_name_template.format(\n",
    "            year=year, continent=continent, header='% women'\n",
    "        )),\n",
    "        'mode': 'markers',\n",
    "        'textsrc': grid.get_column_reference(col_name_template.format(\n",
    "            year=year, continent=continent, header='Country'\n",
    "        )),\n",
    "        'marker': {\n",
    "            'sizemode': 'area',\n",
    "            'sizeref': 200000,\n",
    "            'sizesrc': grid.get_column_reference(col_name_template.format(\n",
    "                 year=year, continent=continent, header='population'\n",
    "            )), \n",
    "            'color': custom_colors[continent]\n",
    "        },\n",
    "        'name': continent\n",
    "    }\n",
    "    figure['data'].append(data_dict) "
   ]
  },
  {
   "cell_type": "code",
   "execution_count": 109,
   "metadata": {
    "collapsed": true
   },
   "outputs": [],
   "source": [
    "for year in years:\n",
    "    frame = {'data': [], 'name': str(year)}\n",
    "    for continent in continents:\n",
    "        data_dict = {\n",
    "            'xsrc': grid.get_column_reference(col_name_template.format(\n",
    "                year=year, continent=continent, header='CPI'\n",
    "            )),\n",
    "            'ysrc': grid.get_column_reference(col_name_template.format(\n",
    "                year=year, continent=continent, header='% women'\n",
    "            )),\n",
    "            'mode': 'markers',\n",
    "            'textsrc': grid.get_column_reference(col_name_template.format(\n",
    "                year=year, continent=continent, header='Country'\n",
    "                )),\n",
    "            'marker': {\n",
    "                'sizemode': 'area',\n",
    "                'sizeref': 200000,\n",
    "                'sizesrc': grid.get_column_reference(col_name_template.format(\n",
    "                    year=year, continent=continent, header='population'\n",
    "                )),\n",
    "                'color': custom_colors[continent]\n",
    "            },\n",
    "            'name': continent\n",
    "        }\n",
    "        frame['data'].append(data_dict)\n",
    "\n",
    "    figure['frames'].append(frame)\n",
    "    slider_step = {'args': [\n",
    "        [year],\n",
    "        {'frame': {'duration': 300, 'redraw': False},\n",
    "         'mode': 'immediate',\n",
    "       'transition': {'duration': 300}}\n",
    "     ],\n",
    "     'label': year,\n",
    "     'method': 'animate'}\n",
    "    sliders_dict['steps'].append(slider_step)\n",
    "\n",
    "figure['layout']['sliders'] = [sliders_dict] "
   ]
  },
  {
   "cell_type": "code",
   "execution_count": 110,
   "metadata": {},
   "outputs": [
    {
     "data": {
      "text/html": [
       "<iframe id=\"igraph\" scrolling=\"no\" style=\"border:none;\" seamless=\"seamless\" src=\"https://plot.ly/~sara.rufael/18.embed\" height=\"525px\" width=\"100%\"></iframe>"
      ],
      "text/plain": [
       "<plotly.tools.PlotlyDisplay object>"
      ]
     },
     "execution_count": 110,
     "metadata": {},
     "output_type": "execute_result"
    }
   ],
   "source": [
    "py.icreate_animations(figure, 'Women and Corruption'+str(time.time())) \n"
   ]
  },
  {
   "cell_type": "code",
   "execution_count": null,
   "metadata": {
    "collapsed": true
   },
   "outputs": [],
   "source": []
  }
 ],
 "metadata": {
  "kernelspec": {
   "display_name": "Python 3",
   "language": "python",
   "name": "python3"
  },
  "language_info": {
   "codemirror_mode": {
    "name": "ipython",
    "version": 3
   },
   "file_extension": ".py",
   "mimetype": "text/x-python",
   "name": "python",
   "nbconvert_exporter": "python",
   "pygments_lexer": "ipython3",
   "version": "3.6.3"
  }
 },
 "nbformat": 4,
 "nbformat_minor": 2
}
